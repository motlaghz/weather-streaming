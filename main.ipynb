{
 "cells": [
  {
   "cell_type": "code",
   "execution_count": null,
   "id": "0f0b7ce7",
   "metadata": {},
   "outputs": [],
   "source": [
    "from ingesting import download_latest_run\n",
    "from plotting import plot_all_parameters\n",
    "from scandinavia_split import split_datasets\n",
    "import xarray as xr"
   ]
  },
  {
   "cell_type": "code",
   "execution_count": null,
   "id": "d9d16c7c",
   "metadata": {},
   "outputs": [],
   "source": [
    "date_str, h = download_latest_run(\"forecast_global.grib\", \"forecast_scandinavia.grib\")\n",
    "tp, u10, v10, tcc = split_datasets(\"forecast_scandinavia.grib\")\n",
    "ds1 = xr.open_dataset(\"forecast_global.grib\", engine=\"cfgrib\", backend_kwargs={\"indexpath\": \"\"})\n",
    "ds2 = xr.merge([tp, u10, v10, tcc], compat=\"override\")\n",
    "plot_all_parameters(ds1, ds2)"
   ]
  },
  {
   "cell_type": "code",
   "execution_count": null,
   "id": "dbe1b638",
   "metadata": {},
   "outputs": [],
   "source": []
  }
 ],
 "metadata": {
  "kernelspec": {
   "display_name": "base",
   "language": "python",
   "name": "python3"
  },
  "language_info": {
   "name": "python",
   "version": "3.10.4"
  }
 },
 "nbformat": 4,
 "nbformat_minor": 5
}
