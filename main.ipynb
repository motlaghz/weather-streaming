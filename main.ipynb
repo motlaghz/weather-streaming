{
 "cells": [
  {
   "cell_type": "code",
   "execution_count": null,
   "id": "0f0b7ce7",
   "metadata": {},
   "outputs": [],
   "source": [
    "# main.ipynb\n",
    "# =====================\n",
    "# Quick demo for Binder\n",
    "import xarray as xr\n",
    "from ecmwf_client import download_latest_run\n",
    "from plotting import plot_all_parameters\n",
    "\n",
    "# Download a latest forecast run\n",
    "file_name = \"forecast_globe.grib\"\n",
    "download_latest_run(file_name)\n",
    "\n",
    "# Open dataset\n",
    "ds = xr.open_dataset(file_name, engine=\"cfgrib\")\n",
    "\n",
    "# Plot interactive visualization\n",
    "plot_all_parameters(ds)"
   ]
  }
 ],
 "metadata": {
  "kernelspec": {
   "display_name": "base",
   "language": "python",
   "name": "python3"
  },
  "language_info": {
   "name": "python",
   "version": "3.10.4"
  }
 },
 "nbformat": 4,
 "nbformat_minor": 5
}
